{
  "nbformat": 4,
  "nbformat_minor": 0,
  "metadata": {
    "colab": {
      "provenance": [],
      "include_colab_link": true
    },
    "kernelspec": {
      "name": "python3",
      "display_name": "Python 3"
    },
    "language_info": {
      "name": "python"
    }
  },
  "cells": [
    {
      "cell_type": "markdown",
      "metadata": {
        "id": "view-in-github",
        "colab_type": "text"
      },
      "source": [
        "<a href=\"https://colab.research.google.com/github/RSevaraN/Magistr_dissertatsiya/blob/main/Naive_bayes_tayyoripynb.ipynb\" target=\"_parent\"><img src=\"https://colab.research.google.com/assets/colab-badge.svg\" alt=\"Open In Colab\"/></a>"
      ]
    },
    {
      "cell_type": "code",
      "execution_count": 7,
      "metadata": {
        "id": "IvaNfNUY2aoQ"
      },
      "outputs": [],
      "source": [
        "import pandas as pd\n",
        "from sklearn.model_selection import train_test_split\n",
        "from sklearn.naive_bayes import GaussianNB\n",
        "from sklearn.metrics import accuracy_score, classification_report\n",
        "\n",
        "\n",
        "\n",
        "\n"
      ]
    },
    {
      "cell_type": "code",
      "source": [
        "data = pd.read_csv('DATANB.csv')\n",
        "\n",
        "# Check if data is loaded correctly\n",
        "print(data.head())"
      ],
      "metadata": {
        "colab": {
          "base_uri": "https://localhost:8080/"
        },
        "id": "Wk-UDCCa8wti",
        "outputId": "e5618979-a73e-464b-d53d-34d5b8f75c8d"
      },
      "execution_count": 8,
      "outputs": [
        {
          "output_type": "stream",
          "name": "stdout",
          "text": [
            "   ID  Davomat  Darsda_qatnashishi  Amaliyot_bahosi  Mustaqil_ta_lim  Daftar  \\\n",
            "0   1        2                   4                3                3       1   \n",
            "1   2        2                   4                3                3       1   \n",
            "2   3        2                   3                3                3       1   \n",
            "3   4        2                   4                3                3       1   \n",
            "4   5        3                   5                4                4       3   \n",
            "\n",
            "   Qushimcha_ish  Tugarak_yoki_kurs  Laboratoriya_bahosi   Class  \n",
            "0              2                  1                     3      3  \n",
            "1              1                  1                     3      3  \n",
            "2              2                  1                     3      3  \n",
            "3              2                  1                     3      3  \n",
            "4              3                  2                     4      5  \n"
          ]
        }
      ]
    },
    {
      "cell_type": "code",
      "source": [
        "# Select features and target variable\n",
        "X = data.drop(columns=['ID', 'Class'])\n",
        "y = data['Class']\n",
        "\n",
        "\n"
      ],
      "metadata": {
        "id": "LITli-0C2oAB"
      },
      "execution_count": 9,
      "outputs": []
    },
    {
      "cell_type": "code",
      "source": [
        "# Split the dataset into training and testing sets\n",
        "X_train, X_test, y_train, y_test = train_test_split(X, y, test_size=0.2)\n",
        "\n",
        "# Initialize the Gaussian Naive Bayes classifier\n",
        "nb = GaussianNB()\n",
        "\n",
        "# Train the classifier\n",
        "nb.fit(X_train, y_train)\n",
        "\n",
        "# Make predictions\n",
        "y_pred = nb.predict(X_test)\n",
        "\n"
      ],
      "metadata": {
        "id": "SXwHVzhO2sCF"
      },
      "execution_count": 10,
      "outputs": []
    },
    {
      "cell_type": "code",
      "source": [
        "# Evaluate the classifier\n",
        "accuracy = accuracy_score(y_test, y_pred)\n",
        "report = classification_report(y_test, y_pred)\n",
        "\n",
        "print(f'Accuracy: {accuracy}')\n",
        "print('Classification Report:')\n",
        "print(report)"
      ],
      "metadata": {
        "colab": {
          "base_uri": "https://localhost:8080/"
        },
        "id": "J-2yh60s2wQd",
        "outputId": "cd3ce904-ea4f-4079-8fe1-45243b225741"
      },
      "execution_count": 11,
      "outputs": [
        {
          "output_type": "stream",
          "name": "stdout",
          "text": [
            "Accuracy: 0.8571428571428571\n",
            "Classification Report:\n",
            "              precision    recall  f1-score   support\n",
            "\n",
            "           3       1.00      1.00      1.00         8\n",
            "           4       1.00      0.60      0.75         5\n",
            "           5       0.33      1.00      0.50         1\n",
            "\n",
            "    accuracy                           0.86        14\n",
            "   macro avg       0.78      0.87      0.75        14\n",
            "weighted avg       0.95      0.86      0.88        14\n",
            "\n"
          ]
        }
      ]
    }
  ]
}